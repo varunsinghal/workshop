{
 "cells": [
  {
   "cell_type": "markdown",
   "metadata": {},
   "source": [
    "## Python workshop - day 3\n",
    "\n",
    "##### Topics covered\n",
    "* pandas (recap)\n",
    "* flask - contd. web APIs\n",
    "* github (advanced) - refer the slides\n",
    "* object oriented (theory in the slides)"
   ]
  },
  {
   "cell_type": "code",
   "execution_count": 8,
   "metadata": {},
   "outputs": [],
   "source": [
    "\"\"\"\n",
    "Helloworld class\n",
    "\n",
    "This class has a single data field that is, 'a' which \n",
    "stores the value \"hello world\". \n",
    "\n",
    "To instantiate the class follow the below syntax:\n",
    "\n",
    "    >>> my_obj = HelloWorld()\n",
    "    >>> my_obj.a\n",
    "    \n",
    "\"\"\"\n",
    "class HelloWorld:\n",
    "    \n",
    "    def __init__(self):\n",
    "        # constructor\n",
    "        self.a = \"hello world\""
   ]
  },
  {
   "cell_type": "code",
   "execution_count": 10,
   "metadata": {},
   "outputs": [
    {
     "name": "stdout",
     "output_type": "stream",
     "text": [
      "hello world\n"
     ]
    }
   ],
   "source": [
    "hw = HelloWorld()\n",
    "print(hw.a)"
   ]
  },
  {
   "cell_type": "code",
   "execution_count": 11,
   "metadata": {},
   "outputs": [],
   "source": [
    "\"\"\"\n",
    "Helloworld class\n",
    "\n",
    "This class has a single data field that is, 'a' which \n",
    "stores the value \"hello world\". \n",
    "\n",
    "To instantiate the class follow the below syntax:\n",
    "\n",
    "    >>> my_obj = HelloWorld()\n",
    "    >>> my_obj.a\n",
    "    >>> my_obj.print_all()\n",
    "    \n",
    "\"\"\"\n",
    "class HelloWorld:\n",
    "    \n",
    "    def __init__(self):\n",
    "        # constructor\n",
    "        self.a = \"hello world\"\n",
    "        self.__b = \"I am private variable inside the class\"\n",
    "        \n",
    "    def print_all(self):\n",
    "        print(self.a)\n",
    "        print(self.__b)"
   ]
  },
  {
   "cell_type": "code",
   "execution_count": 12,
   "metadata": {},
   "outputs": [
    {
     "name": "stdout",
     "output_type": "stream",
     "text": [
      "hello world\n",
      "I am private variable inside the class\n"
     ]
    }
   ],
   "source": [
    "hw2 = HelloWorld()\n",
    "hw2.print_all()"
   ]
  },
  {
   "cell_type": "code",
   "execution_count": 19,
   "metadata": {},
   "outputs": [],
   "source": [
    "\"\"\"\n",
    "A class\n",
    "\n",
    "This class receives two data fields that is, 'name' and\n",
    "'age'. As type hinting suggest first one is string and latter \n",
    "one is integer.\n",
    "\n",
    "To instantiate the class follow the below syntax:\n",
    "\n",
    "    >>> my_obj = A(\"python\", 3)\n",
    "    >>> my_obj.print_me()\n",
    "    \n",
    "\"\"\"\n",
    "class A:\n",
    "    def __init__(self, name: str, age: int):\n",
    "        self.name = name\n",
    "        self.age = age\n",
    "\n",
    "    def print_me(self):\n",
    "        print(\"Hi ! my name is \" + self.name + \" with age : \" + str(self.age))\n"
   ]
  },
  {
   "cell_type": "code",
   "execution_count": 20,
   "metadata": {},
   "outputs": [
    {
     "name": "stdout",
     "output_type": "stream",
     "text": [
      "Hi ! my name is python with age : 3\n"
     ]
    }
   ],
   "source": [
    "a = A(\"python\", \"3\")\n",
    "a.print_me()"
   ]
  },
  {
   "cell_type": "code",
   "execution_count": 30,
   "metadata": {},
   "outputs": [],
   "source": [
    "\"\"\"\n",
    "Class B\n",
    "\n",
    "To study the behavior of static methods.\n",
    "\n",
    "\"\"\"\n",
    "class B:\n",
    "    def __init__(self, a: str):\n",
    "        self.a = a\n",
    "        \n",
    "    @staticmethod\n",
    "    def function_1():\n",
    "        print(\"--- some static function ---\")"
   ]
  },
  {
   "cell_type": "code",
   "execution_count": 33,
   "metadata": {},
   "outputs": [
    {
     "name": "stdout",
     "output_type": "stream",
     "text": [
      "--- some static function ---\n"
     ]
    }
   ],
   "source": [
    "b = B(\"py\")\n",
    "b.function_1()\n",
    "\n",
    "# Thoughts\n",
    "# Why are you able to run this function without reference to self ?\n",
    "# Does this function definition has access to self.a ?"
   ]
  },
  {
   "cell_type": "code",
   "execution_count": 34,
   "metadata": {},
   "outputs": [
    {
     "name": "stdout",
     "output_type": "stream",
     "text": [
      "--- some static function ---\n"
     ]
    }
   ],
   "source": [
    "# How are we able to call the function without instantiating the object of this class?\n",
    "B.function_1()"
   ]
  },
  {
   "cell_type": "code",
   "execution_count": 36,
   "metadata": {},
   "outputs": [],
   "source": [
    "\"\"\"\n",
    "Class C\n",
    "\n",
    "To study the behavior of class C.\n",
    "\"\"\"\n",
    "class C:\n",
    "    def __init__(self, a: str):\n",
    "        self.a = a\n",
    "    \n",
    "    @classmethod\n",
    "    def initialise_me(cls):\n",
    "        return cls(\"default param based on some context\")\n",
    "    \n",
    "    def print_me(self):\n",
    "        print(self.a)\n"
   ]
  },
  {
   "cell_type": "code",
   "execution_count": 41,
   "metadata": {},
   "outputs": [
    {
     "name": "stdout",
     "output_type": "stream",
     "text": [
      "python\n"
     ]
    }
   ],
   "source": [
    "obj = C(\"python\")\n",
    "obj.print_me()"
   ]
  },
  {
   "cell_type": "code",
   "execution_count": 38,
   "metadata": {},
   "outputs": [
    {
     "name": "stdout",
     "output_type": "stream",
     "text": [
      "default param based on some context\n"
     ]
    }
   ],
   "source": [
    "obj = C.initialise_me()\n",
    "obj.print_me()"
   ]
  },
  {
   "cell_type": "code",
   "execution_count": 70,
   "metadata": {},
   "outputs": [
    {
     "name": "stdout",
     "output_type": "stream",
     "text": [
      "*** calculated costly operation - is_valid ***\n",
      "this is a\n",
      "*** calculated costly operation - is_valid ***\n",
      "this is b\n",
      "*** calculated costly operation - is_valid ***\n",
      "this is a\n",
      "*** calculated costly operation - is_valid ***\n",
      "this is b\n",
      "*** calculated costly operation - is_valid ***\n",
      "this is a\n",
      "*** calculated costly operation - is_valid ***\n",
      "this is b\n"
     ]
    }
   ],
   "source": [
    "# Design a class to save the context of different users accessing your website.\n",
    "FetchData(\"username1\", \"password1\", \"a\").print_me()\n",
    "FetchData(\"username2\", \"password2\", \"b\").print_me()\n",
    "FetchData(\"username3\", \"password3\", \"a\").print_me()\n",
    "FetchData(\"username1\", \"password1\", \"b\").print_me()\n",
    "FetchData(\"username2\", \"password2\", \"a\").print_me()\n",
    "FetchData(\"username3\", \"password3\", \"b\").print_me()"
   ]
  },
  {
   "cell_type": "code",
   "execution_count": 69,
   "metadata": {},
   "outputs": [],
   "source": [
    "class FetchData:\n",
    "    def __init__(self, username, password, variable_name):\n",
    "        self.a = \"this is a\"\n",
    "        self.b = \"this is b\"\n",
    "        self.c = Connect(username, password)\n",
    "        self.variable_name = variable_name\n",
    "    \n",
    "    def print_me(self):\n",
    "        if self.c.is_valid:\n",
    "            print(getattr(self, self.variable_name))\n",
    "        else:\n",
    "            print(\"-- invalid access to \" + self.variable_name)\n",
    "\n",
    "class Connect:\n",
    "    def __init__(self, username, password):\n",
    "        if ((username == \"username1\") & (password == \"password1\")) | ((username == \"username2\") & (password == \"password2\")) | ((username == \"username3\") & (password == \"password3\")):\n",
    "            print(\"*** calculated costly operation - is_valid ***\")\n",
    "            self.is_valid = True\n",
    "        else:\n",
    "            self.is_valid = False"
   ]
  },
  {
   "cell_type": "code",
   "execution_count": 71,
   "metadata": {},
   "outputs": [],
   "source": [
    "class FetchData:\n",
    "    def __init__(self, username, password, variable_name):\n",
    "        self.a = \"this is a\"\n",
    "        self.b = \"this is b\"\n",
    "        self.c = Connect.initialise_me(username, password)\n",
    "        self.variable_name = variable_name\n",
    "    \n",
    "    def print_me(self):\n",
    "        if self.c.is_valid:\n",
    "            print(getattr(self, self.variable_name))\n",
    "        else:\n",
    "            print(\"-- invalid access to \" + self.variable_name)\n",
    "\n",
    "class Connect:\n",
    "    sessions = {}\n",
    "    \n",
    "    def __init__(self, username, password):\n",
    "        if ((username == \"username1\") & (password == \"password1\")) | ((username == \"username2\") & (password == \"password2\")) | ((username == \"username3\") & (password == \"password3\")):\n",
    "            print(\"*** calculated costly operation - is_valid ***\")\n",
    "            self.is_valid = True\n",
    "        else:\n",
    "            self.is_valid = False\n",
    "    \n",
    "    @classmethod\n",
    "    def initialise_me(cls, username, password):\n",
    "        if not Connect.sessions.get(username+password):\n",
    "                session = cls(username, password)\n",
    "                Connect.sessions[username+password] = session\n",
    "        return Connect.sessions.get(username+password)\n",
    "        "
   ]
  },
  {
   "cell_type": "code",
   "execution_count": 72,
   "metadata": {},
   "outputs": [
    {
     "name": "stdout",
     "output_type": "stream",
     "text": [
      "*** calculated costly operation - is_valid ***\n",
      "this is a\n",
      "*** calculated costly operation - is_valid ***\n",
      "this is b\n",
      "*** calculated costly operation - is_valid ***\n",
      "this is a\n",
      "this is b\n",
      "this is a\n",
      "this is b\n"
     ]
    }
   ],
   "source": [
    "FetchData(\"username1\", \"password1\", \"a\").print_me()\n",
    "FetchData(\"username2\", \"password2\", \"b\").print_me()\n",
    "FetchData(\"username3\", \"password3\", \"a\").print_me()\n",
    "FetchData(\"username1\", \"password1\", \"b\").print_me()\n",
    "FetchData(\"username2\", \"password2\", \"a\").print_me()\n",
    "FetchData(\"username3\", \"password3\", \"b\").print_me()"
   ]
  },
  {
   "cell_type": "code",
   "execution_count": null,
   "metadata": {},
   "outputs": [],
   "source": []
  }
 ],
 "metadata": {
  "kernelspec": {
   "display_name": "Python 3",
   "language": "python",
   "name": "python3"
  },
  "language_info": {
   "codemirror_mode": {
    "name": "ipython",
    "version": 3
   },
   "file_extension": ".py",
   "mimetype": "text/x-python",
   "name": "python",
   "nbconvert_exporter": "python",
   "pygments_lexer": "ipython3",
   "version": "3.6.7"
  }
 },
 "nbformat": 4,
 "nbformat_minor": 2
}
